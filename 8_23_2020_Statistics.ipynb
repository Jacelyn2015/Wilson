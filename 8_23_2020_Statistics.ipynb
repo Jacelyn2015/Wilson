{
 "cells": [
  {
   "cell_type": "code",
   "execution_count": 5,
   "metadata": {},
   "outputs": [
    {
     "data": {
      "text/html": [
       "<div>\n",
       "<style scoped>\n",
       "    .dataframe tbody tr th:only-of-type {\n",
       "        vertical-align: middle;\n",
       "    }\n",
       "\n",
       "    .dataframe tbody tr th {\n",
       "        vertical-align: top;\n",
       "    }\n",
       "\n",
       "    .dataframe thead th {\n",
       "        text-align: right;\n",
       "    }\n",
       "</style>\n",
       "<table border=\"1\" class=\"dataframe\">\n",
       "  <thead>\n",
       "    <tr style=\"text-align: right;\">\n",
       "      <th></th>\n",
       "      <th>Sepal Length (cm)</th>\n",
       "      <th>Sepal Width (cm)</th>\n",
       "      <th>Petal Length (cm)</th>\n",
       "      <th>Petal Width (cm)</th>\n",
       "      <th>Species</th>\n",
       "    </tr>\n",
       "    <tr>\n",
       "      <th>Id</th>\n",
       "      <th></th>\n",
       "      <th></th>\n",
       "      <th></th>\n",
       "      <th></th>\n",
       "      <th></th>\n",
       "    </tr>\n",
       "  </thead>\n",
       "  <tbody>\n",
       "    <tr>\n",
       "      <th>1</th>\n",
       "      <td>5.1</td>\n",
       "      <td>3.5</td>\n",
       "      <td>1.4</td>\n",
       "      <td>0.2</td>\n",
       "      <td>Iris-setosa</td>\n",
       "    </tr>\n",
       "    <tr>\n",
       "      <th>2</th>\n",
       "      <td>4.9</td>\n",
       "      <td>3.0</td>\n",
       "      <td>1.4</td>\n",
       "      <td>0.2</td>\n",
       "      <td>Iris-setosa</td>\n",
       "    </tr>\n",
       "    <tr>\n",
       "      <th>3</th>\n",
       "      <td>4.7</td>\n",
       "      <td>3.2</td>\n",
       "      <td>1.3</td>\n",
       "      <td>0.2</td>\n",
       "      <td>Iris-setosa</td>\n",
       "    </tr>\n",
       "    <tr>\n",
       "      <th>4</th>\n",
       "      <td>4.6</td>\n",
       "      <td>3.1</td>\n",
       "      <td>1.5</td>\n",
       "      <td>0.2</td>\n",
       "      <td>Iris-setosa</td>\n",
       "    </tr>\n",
       "    <tr>\n",
       "      <th>5</th>\n",
       "      <td>5.0</td>\n",
       "      <td>3.6</td>\n",
       "      <td>1.4</td>\n",
       "      <td>0.2</td>\n",
       "      <td>Iris-setosa</td>\n",
       "    </tr>\n",
       "  </tbody>\n",
       "</table>\n",
       "</div>"
      ],
      "text/plain": [
       "    Sepal Length (cm)  Sepal Width (cm)  Petal Length (cm)  Petal Width (cm)  \\\n",
       "Id                                                                             \n",
       "1                 5.1               3.5                1.4               0.2   \n",
       "2                 4.9               3.0                1.4               0.2   \n",
       "3                 4.7               3.2                1.3               0.2   \n",
       "4                 4.6               3.1                1.5               0.2   \n",
       "5                 5.0               3.6                1.4               0.2   \n",
       "\n",
       "        Species  \n",
       "Id               \n",
       "1   Iris-setosa  \n",
       "2   Iris-setosa  \n",
       "3   Iris-setosa  \n",
       "4   Iris-setosa  \n",
       "5   Iris-setosa  "
      ]
     },
     "execution_count": 5,
     "metadata": {},
     "output_type": "execute_result"
    }
   ],
   "source": [
    "import pandas as pd\n",
    "import matplotlib.pyplot as plt\n",
    "import seaborn as sns\n",
    "\n",
    "iris_data = pd.read_csv(\"iris.csv\",index_col = 'Id')\n",
    "iris_data.head(5)"
   ]
  },
  {
   "cell_type": "code",
   "execution_count": null,
   "metadata": {},
   "outputs": [],
   "source": [
    "iris_data['Petal Length(cm)'].value_counts(bins = 6)\n",
    "sns.displot(a=iris_data['Petal Length(cm)'], kde = False)"
   ]
  },
  {
   "cell_type": "markdown",
   "metadata": {},
   "source": [
    "## statistics"
   ]
  },
  {
   "cell_type": "code",
   "execution_count": 6,
   "metadata": {},
   "outputs": [
    {
     "name": "stdout",
     "output_type": "stream",
     "text": [
      "Standard Deviation of the sample is 1.5811388300841898 \n",
      "Variance of the sample is 2.5 \n"
     ]
    }
   ],
   "source": [
    "import statistics\n",
    "sample = [1,2,3,4,5]\n",
    "print(\"Standard Deviation of the sample is % s \" \n",
    "                    %(statistics.stdev(sample))) \n",
    "print(\"Variance of the sample is % s \" \n",
    "                    %(statistics.variance(sample))) "
   ]
  },
  {
   "cell_type": "code",
   "execution_count": 9,
   "metadata": {},
   "outputs": [
    {
     "name": "stdout",
     "output_type": "stream",
     "text": [
      "The Standard Deviation of Sample1 is 3.9761191895520196\n",
      "The Standard Deviation of Sample2 is 1.8708286933869707\n",
      "The Standard Deviation of Sample3 is 7.8182478855559445\n",
      "The Standard Deviation of Sample4 is 0.41967844833872525\n",
      "The Variation of Sample1 is 15.80952380952381\n",
      "The Variation of Sample2 is 3.5\n",
      "The Variation of Sample3 is 61.125\n",
      "The Variation of Sample4 is 0.17613000000000006\n"
     ]
    }
   ],
   "source": [
    "from statistics import stdev\n",
    "from statistics import variance\n",
    "from fractions import Fraction as fr\n",
    "sample1 = (1, 2, 5, 4, 8, 9, 12) \n",
    "sample2 = (-2, -4, -3, -1, -5, -6) \n",
    "sample3 = (-9, -1, -0, 2, 1, 3, 4, 19) \n",
    "sample4 = (1.23, 1.45, 2.1, 2.2, 1.9)\n",
    "print(\"The Standard Deviation of Sample1 is % s\" \n",
    "                              %(stdev(sample1))) \n",
    "                                \n",
    "print(\"The Standard Deviation of Sample2 is % s\" \n",
    "                              %(stdev(sample2))) \n",
    "print(\"The Standard Deviation of Sample3 is % s\" \n",
    "                              %(stdev(sample3))) \n",
    "                                \n",
    "print(\"The Standard Deviation of Sample4 is % s\" \n",
    "                              %(stdev(sample4))) \n",
    "print(\"The Variation of Sample1 is % s\" \n",
    "                              %(variance(sample1))) \n",
    "print(\"The Variation of Sample2 is % s\" \n",
    "                              %(variance(sample2))) \n",
    "print(\"The Variation of Sample3 is % s\" \n",
    "                              %(variance(sample3))) \n",
    "print(\"The Variation of Sample4 is % s\" \n",
    "                              %(variance(sample4))) "
   ]
  },
  {
   "cell_type": "code",
   "execution_count": 17,
   "metadata": {},
   "outputs": [
    {
     "name": "stdout",
     "output_type": "stream",
     "text": [
      "Standard Deviation of Sample set is 0.6047037842337906\n",
      "mean of Sample set is 1.6833333333333333\n"
     ]
    }
   ],
   "source": [
    "import statistics\n",
    "sample1 = (1, 1.3, 1.2, 1.9, 2.5, 2.2) \n",
    "m = statistics.mean(sample1)\n",
    "print(\"Standard Deviation of Sample set is % s\" \n",
    "         %(statistics.stdev(sample1))) \n",
    "print(\"mean of Sample set is % s\" \n",
    "         %(m))"
   ]
  },
  {
   "cell_type": "code",
   "execution_count": 8,
   "metadata": {},
   "outputs": [
    {
     "name": "stdout",
     "output_type": "stream",
     "text": [
      "mean is 3.25\n",
      "mean is 2.625\n",
      "mean is 0.5625\n",
      "mean is  0.5625\n"
     ]
    }
   ],
   "source": [
    "import statistics\n",
    "from decimal import Decimal as D\n",
    "x = (1, 2, 3, 4, 4,5.5)\n",
    "x1 = ([-1.0, 2.5, 3.25, 5.75])\n",
    "d1 = ([D(\"0.5\"), D(\"0.75\"), D(\"0.625\"), D(\"0.375\")])\n",
    "m1 = statistics.mean(x)\n",
    "m2 = statistics.mean(x1)\n",
    "m3 = statistics.mean(d1)\n",
    "m4 = statistics.Decimal(m3)\n",
    "print(\"mean is\" , m1)\n",
    "print(\"mean is\" , m2)\n",
    "print(\"mean is\" , m3)\n",
    "print('mean is ', m4)"
   ]
  },
  {
   "cell_type": "code",
   "execution_count": 12,
   "metadata": {},
   "outputs": [
    {
     "name": "stdout",
     "output_type": "stream",
     "text": [
      "4.25\n"
     ]
    }
   ],
   "source": [
    "import statistics\n",
    "y1 = ([3.5, 4.0, 5.25])\n",
    "m1 = statistics.mean(y1)\n",
    "print(m1)"
   ]
  },
  {
   "cell_type": "code",
   "execution_count": 13,
   "metadata": {},
   "outputs": [
    {
     "name": "stdout",
     "output_type": "stream",
     "text": [
      "median is  3\n"
     ]
    }
   ],
   "source": [
    "import statistics\n",
    "a1 = ([1, 3, 5])\n",
    "m1 = statistics.median(a1)\n",
    "print('median is ', m1)"
   ]
  },
  {
   "cell_type": "code",
   "execution_count": 14,
   "metadata": {},
   "outputs": [
    {
     "name": "stdout",
     "output_type": "stream",
     "text": [
      "median is  4.0\n"
     ]
    }
   ],
   "source": [
    "import statistics\n",
    "a1 = ([1, 3,5, 5])\n",
    "m1 = statistics.median(a1)\n",
    "print('median is ', m1)"
   ]
  },
  {
   "cell_type": "code",
   "execution_count": 15,
   "metadata": {},
   "outputs": [
    {
     "name": "stdout",
     "output_type": "stream",
     "text": [
      "median is  3\n"
     ]
    }
   ],
   "source": [
    "import statistics\n",
    "a1 = ([1, 3,5, 5])\n",
    "m1 = statistics.median_low(a1)\n",
    "print('median is ', m1)"
   ]
  },
  {
   "cell_type": "code",
   "execution_count": 16,
   "metadata": {},
   "outputs": [
    {
     "name": "stdout",
     "output_type": "stream",
     "text": [
      "median is  5\n"
     ]
    }
   ],
   "source": [
    "import statistics\n",
    "a1 = ([1, 3,5, 5])\n",
    "m1 = statistics.median_high(a1)\n",
    "print('median is ', m1)"
   ]
  },
  {
   "cell_type": "code",
   "execution_count": 17,
   "metadata": {},
   "outputs": [
    {
     "name": "stdout",
     "output_type": "stream",
     "text": [
      "median is  52.5\n"
     ]
    }
   ],
   "source": [
    "import statistics\n",
    "a1 = ([52, 52, 53, 54])\n",
    "m1 = statistics.median(a1)\n",
    "print('median is ', m1)"
   ]
  },
  {
   "cell_type": "code",
   "execution_count": 21,
   "metadata": {},
   "outputs": [
    {
     "name": "stdout",
     "output_type": "stream",
     "text": [
      "median_grouped is  52.5\n"
     ]
    }
   ],
   "source": [
    "import statistics\n",
    "a1 = ([52, 52, 53, 54])\n",
    "m1 = statistics.median_grouped(a1)\n",
    "print('median_grouped is ', m1)"
   ]
  },
  {
   "cell_type": "code",
   "execution_count": 22,
   "metadata": {},
   "outputs": [
    {
     "name": "stdout",
     "output_type": "stream",
     "text": [
      "median_grouped is  3.7\n"
     ]
    }
   ],
   "source": [
    "import statistics\n",
    "a1 = ([1, 2, 2, 3, 4, 4, 4, 4, 4, 5])\n",
    "m1 = statistics.median_grouped(a1)\n",
    "print('median_grouped is ', m1)"
   ]
  },
  {
   "cell_type": "code",
   "execution_count": 24,
   "metadata": {},
   "outputs": [
    {
     "name": "stdout",
     "output_type": "stream",
     "text": [
      "median_grouped is  3.25\n"
     ]
    }
   ],
   "source": [
    "import statistics\n",
    "a1 = ([1, 3, 3, 5, 7])\n",
    "m1 = statistics.median_grouped(a1 , interval=1)\n",
    "print('median_grouped is ', m1)"
   ]
  },
  {
   "cell_type": "code",
   "execution_count": 25,
   "metadata": {},
   "outputs": [
    {
     "name": "stdout",
     "output_type": "stream",
     "text": [
      "median_grouped is  3.75\n"
     ]
    }
   ],
   "source": [
    "import statistics\n",
    "a1 = ([1, 3, 3, 5, 7])\n",
    "m1 = statistics.median_grouped(a1 , interval=3)\n",
    "print('median_grouped is ', m1)"
   ]
  },
  {
   "cell_type": "code",
   "execution_count": 26,
   "metadata": {},
   "outputs": [
    {
     "name": "stdout",
     "output_type": "stream",
     "text": [
      "median_grouped is  3.5\n"
     ]
    }
   ],
   "source": [
    "import statistics\n",
    "a1 = ([1, 3, 3, 5, 7])\n",
    "m1 = statistics.median_grouped(a1 , interval=2)\n",
    "print('median_grouped is ', m1)"
   ]
  },
  {
   "cell_type": "code",
   "execution_count": 27,
   "metadata": {},
   "outputs": [
    {
     "name": "stdout",
     "output_type": "stream",
     "text": [
      "median_grouped is  4.0\n"
     ]
    }
   ],
   "source": [
    "import statistics\n",
    "a1 = ([1, 3, 3, 5, 7])\n",
    "m1 = statistics.median_grouped(a1 , interval=4)\n",
    "print('median_grouped is ', m1)"
   ]
  },
  {
   "cell_type": "code",
   "execution_count": 28,
   "metadata": {},
   "outputs": [
    {
     "name": "stdout",
     "output_type": "stream",
     "text": [
      "median_grouped is  4.5\n"
     ]
    }
   ],
   "source": [
    "import statistics\n",
    "a1 = ([1, 3, 3, 5, 7, 8])\n",
    "m1 = statistics.median_grouped(a1 , interval=1)\n",
    "print('median_grouped is ', m1)"
   ]
  },
  {
   "cell_type": "code",
   "execution_count": 29,
   "metadata": {},
   "outputs": [
    {
     "name": "stdout",
     "output_type": "stream",
     "text": [
      "mode is  3\n"
     ]
    }
   ],
   "source": [
    "import statistics\n",
    "a1 = ([1, 1, 2, 3, 3, 3, 3, 4])\n",
    "m1 = statistics.mode(a1)\n",
    "print('mode is ', m1)"
   ]
  },
  {
   "cell_type": "code",
   "execution_count": 30,
   "metadata": {},
   "outputs": [
    {
     "name": "stdout",
     "output_type": "stream",
     "text": [
      "mode is  1\n"
     ]
    }
   ],
   "source": [
    "import statistics\n",
    "a1 = ([1, 1, 2, 3, 3, 3, 3, 4,1,1,1])\n",
    "m1 = statistics.mode(a1)\n",
    "print('mode is ', m1)"
   ]
  },
  {
   "cell_type": "code",
   "execution_count": 35,
   "metadata": {},
   "outputs": [
    {
     "name": "stdout",
     "output_type": "stream",
     "text": [
      "mode is  4\n"
     ]
    }
   ],
   "source": [
    "import statistics\n",
    "a1 = ([1, 1, 1, 1, 2, 2, 2, 2, 3, 3, 3, 3, 4,4,4,4,4])\n",
    "m1 = statistics.mode(a1)\n",
    "print('mode is ', m1)"
   ]
  },
  {
   "cell_type": "code",
   "execution_count": 43,
   "metadata": {},
   "outputs": [
    {
     "name": "stdout",
     "output_type": "stream",
     "text": [
      "mode is  orange\n"
     ]
    }
   ],
   "source": [
    "import statistics\n",
    "a1 = ([\"red\", \"blue\", \"blue\", \"orange\", \"orange\", \"red\", \"green\", 'red', \"red\", \"red\", \"orange\", \"orange\", \"orange\", \"orange\"])\n",
    "m1 = statistics.mode(a1)\n",
    "print('mode is ', m1)"
   ]
  },
  {
   "cell_type": "code",
   "execution_count": 44,
   "metadata": {},
   "outputs": [
    {
     "name": "stdout",
     "output_type": "stream",
     "text": [
      "mode is  red\n"
     ]
    }
   ],
   "source": [
    "import statistics\n",
    "a1 = ([\"red\", \"blue\", \"blue\", \"orange\", \"orange\", \"red\", \"red\",\"red\", \"red\", \"green\", \"red\", \"red\", \"orange\", \"orange\", \"orange\", \"orange\"])\n",
    "m1 = statistics.mode(a1)\n",
    "print('mode is ', m1)"
   ]
  },
  {
   "cell_type": "markdown",
   "metadata": {},
   "source": [
    "#### To calculate the variance in a dataset, we first need to find the difference between each individual value and the mean. The variance is the average of the squares of those differences. We can express the variance with the following math expression:\n",
    "\n",
    "#### σ2 =∑(xi−μ)/n ** 2\n",
    "In this equation, xi stands for individual values or observations in a dataset. μ stands for the mean or average of those values. n is the number of values in the dataset.\n",
    "\n",
    "The term xi - μ is called the deviation from the mean. So, the variance is the mean of square deviations. That's why we denoted it as σ2.\n",
    "\n",
    "#### Say we have a dataset [3, 5, 2, 7, 1, 3]. To find its variance, we need to calculate the mean which is: (3+5+2+7+1+3)/6 = 3.5\n",
    "\n",
    "Then, we need to calculate the sum of the square deviation from the mean of all the observations. Here's how:\n",
    "(3+5+2+7+1+3)/6 = 3.5\n",
    "#### (3−3.5)**2+(5−3.5)**2+(2−3.5)**2+(7−3.5)**2+(1−3.5)**2+(3−3.5)**2=23.5\n",
    "To find the variance, we just need to divide this result by the number of observations like this:\n",
    "####  23.5/6 = 3.916666667 That's all. The variance of our data is 3.916666667."
   ]
  },
  {
   "cell_type": "code",
   "execution_count": 1,
   "metadata": {},
   "outputs": [
    {
     "data": {
      "text/plain": [
       "5.76"
      ]
     },
     "execution_count": 1,
     "metadata": {},
     "output_type": "execute_result"
    }
   ],
   "source": [
    "def variance(data):\n",
    "    # Number of observations\n",
    "    n = len(data)\n",
    "    \n",
    "    # Mean of the data\n",
    "    mean = sum(data) / n\n",
    "    \n",
    "    # Square deviations\n",
    "    deviations = [(x - mean) ** 2 for x in data]\n",
    "    \n",
    "    # Variance\n",
    "    variance = sum(deviations) / n\n",
    "    return variance\n",
    "\n",
    "variance([4, 8, 6, 5, 3, 2, 8, 9, 2, 5])\n"
   ]
  },
  {
   "cell_type": "markdown",
   "metadata": {},
   "source": [
    "##### We first calculate the number of observations (n) in our data using the built-in function len(). Then, we calculate the mean of the data, dividing the total sum of the observations by the number of observations.\n",
    "\n",
    "##### The next step is to calculate the square deviations from the mean. To do that, we use a list comprehension that creates a list of square deviations using the expression (x - mean) ** 2 where x stands for every observation in our data.\n",
    "\n",
    "##### Finally, we calculate the variance by summing the deviations and dividing them by the number of observations n.\n",
    "\n",
    "##### In this case, variance() will calculate the population variance because we're using n instead of n - 1 to calculate the mean of the deviations. If we're working with a sample and we want to estimate the variance of the population, then we'll need to update the expression variance = sum(deviations) / n to variance = sum(deviations) / (n - 1)."
   ]
  },
  {
   "cell_type": "code",
   "execution_count": 8,
   "metadata": {},
   "outputs": [
    {
     "data": {
      "text/plain": [
       "6.4"
      ]
     },
     "execution_count": 8,
     "metadata": {},
     "output_type": "execute_result"
    }
   ],
   "source": [
    "def variance(data,ddof=0):\n",
    "    n = len(data)\n",
    "    m = sum(data) / n\n",
    "    return sum((x - m) ** 2 for x in data) / (n- ddof)\n",
    "    \n",
    "\n",
    "variance([4, 8, 6, 5, 3, 2, 8, 9, 2, 5], ddof = 1)"
   ]
  },
  {
   "cell_type": "markdown",
   "metadata": {},
   "source": [
    "##### In this case, we remove some intermediate steps and temporary variables like deviations and variance. We also turn the list comprehension into a generator expression, which is much more efficient in terms of memory consumption.\n",
    "\n",
    "##### Note that this implementation takes a second argument called ddof which defaults to 0. This argument allows us to set the degrees of freedom that we want to use when calculating the variance. For example, ddof=0 will allow us to calculate the variance of a population. Meanwhile, ddof=1 will allow us to estimate the population variance using a sample of data."
   ]
  },
  {
   "cell_type": "markdown",
   "metadata": {},
   "source": [
    "Calculating the Standard Deviation\n",
    "The standard deviation measures the amount of variation or dispersion of a set of numeric values. Standard deviation is the square root of variance σ2 and is denoted as σ. So, if we want to calculate the standard deviation, then all we just have to do is to take the square root of the variance as follows:\n",
    "\n",
    "σ=√σ2\n",
    "Again, we need to distinguish between the population standard deviation, which is the square root of the population variance (σ2) and the sample standard deviation, which is the square root of the sample variance (S2). We'll denote the sample standard deviation as S:  S =√S2\n",
    "\n",
    "Low values of standard deviation tell us that individual values are closer to the mean. High values, on the other hand, tell us that individual observations are far away from the mean of the data.\n",
    "\n",
    "Values that are within one standard deviation of the mean can be thought of as fairly typical, whereas values that are three or more standard deviations away from the mean can be considered much more atypical. They're also known as outliers"
   ]
  },
  {
   "cell_type": "code",
   "execution_count": 10,
   "metadata": {},
   "outputs": [
    {
     "name": "stdout",
     "output_type": "stream",
     "text": [
      "6.4\n"
     ]
    },
    {
     "data": {
      "text/plain": [
       "2.5298221281347035"
      ]
     },
     "execution_count": 10,
     "metadata": {},
     "output_type": "execute_result"
    }
   ],
   "source": [
    "import math\n",
    "\n",
    "def stdev(data):\n",
    "    var = variance(data)\n",
    "    std_dev = math.sqrt(var)\n",
    "    return std_dev\n",
    "\n",
    "stdev([4, 8, 6, 5, 3, 2, 8, 9, 2, 5])\n"
   ]
  },
  {
   "cell_type": "code",
   "execution_count": 5,
   "metadata": {},
   "outputs": [
    {
     "data": {
      "text/plain": [
       "1.8257418583505538"
      ]
     },
     "execution_count": 5,
     "metadata": {},
     "output_type": "execute_result"
    }
   ],
   "source": [
    "import math\n",
    "from statistics import variance\n",
    "def stdev(data):\n",
    "    var = variance(data)\n",
    "    std_dev = math.sqrt(var)\n",
    "    return std_dev\n",
    "\n",
    "stdev([7, 8, 9, 9, 10, 10, 11, 11, 12, 13])\n"
   ]
  },
  {
   "cell_type": "code",
   "execution_count": 7,
   "metadata": {},
   "outputs": [
    {
     "data": {
      "text/plain": [
       "1.5634719199411433"
      ]
     },
     "execution_count": 7,
     "metadata": {},
     "output_type": "execute_result"
    }
   ],
   "source": [
    "import math\n",
    "def stdev(data):\n",
    "    return math.sqrt(variance(data))\n",
    "\n",
    "stdev([7, 9, 9, 10, 10, 10, 10, 11, 11, 13])"
   ]
  },
  {
   "cell_type": "code",
   "execution_count": null,
   "metadata": {},
   "outputs": [],
   "source": []
  }
 ],
 "metadata": {
  "kernelspec": {
   "display_name": "Python 3",
   "language": "python",
   "name": "python3"
  },
  "language_info": {
   "codemirror_mode": {
    "name": "ipython",
    "version": 3
   },
   "file_extension": ".py",
   "mimetype": "text/x-python",
   "name": "python",
   "nbconvert_exporter": "python",
   "pygments_lexer": "ipython3",
   "version": "3.7.6"
  }
 },
 "nbformat": 4,
 "nbformat_minor": 4
}
